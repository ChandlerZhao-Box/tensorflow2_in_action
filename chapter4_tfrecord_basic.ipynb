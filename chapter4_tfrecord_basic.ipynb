{
 "cells": [
  {
   "cell_type": "code",
   "execution_count": 12,
   "id": "divine-paper",
   "metadata": {},
   "outputs": [
    {
     "name": "stdout",
     "output_type": "stream",
     "text": [
      "2.2.0-rc4\n",
      "sys.version_info(major=3, minor=7, micro=3, releaselevel='final', serial=0)\n"
     ]
    }
   ],
   "source": [
    "import matplotlib.pyplot as plt\n",
    "%matplotlib inline\n",
    "import numpy as np\n",
    "import sklearn\n",
    "import pandas as pd\n",
    "import os\n",
    "import sys\n",
    "import time\n",
    "import tensorflow as tf\n",
    "from tensorflow import keras\n",
    "\n",
    "print(tf.__version__)\n",
    "print(sys.version_info)\n"
   ]
  },
  {
   "cell_type": "code",
   "execution_count": 24,
   "id": "featured-reynolds",
   "metadata": {},
   "outputs": [
    {
     "name": "stdout",
     "output_type": "stream",
     "text": [
      "value: \"machine_learning\"\n",
      "value: \"cc150\"\n",
      "\n",
      "value: 15.100000381469727\n",
      "value: 12.199999809265137\n",
      "value: 8.0\n",
      "value: 1.0\n",
      "\n",
      "(2,)\n",
      "feature {\n",
      "  key: \"age\"\n",
      "  value {\n",
      "    int64_list {\n",
      "      value: 1\n",
      "      value: 6\n",
      "    }\n",
      "  }\n",
      "}\n",
      "feature {\n",
      "  key: \"favorite_books\"\n",
      "  value {\n",
      "    bytes_list {\n",
      "      value: \"machine_learning\"\n",
      "      value: \"cc150\"\n",
      "    }\n",
      "  }\n",
      "}\n",
      "feature {\n",
      "  key: \"hours\"\n",
      "  value {\n",
      "    float_list {\n",
      "      value: 15.100000381469727\n",
      "      value: 12.199999809265137\n",
      "      value: 8.0\n",
      "      value: 1.0\n",
      "    }\n",
      "  }\n",
      "}\n",
      "\n"
     ]
    }
   ],
   "source": [
    "# tfrecord 文件格式\n",
    "# -> tf.train.Example\n",
    "#    -> tf.train.Features -> {\"key\": tf.train.Feature}\n",
    "#        -> tf.train.Feature -> tf.train.ByteList/FloatList/Int64List\n",
    "\n",
    "favorite_books = [name.encode(\"utf-8\") for name in [\"machine_learning\", \"cc150\"]]\n",
    "favorite_books_bytelist = tf.train.BytesList(value = favorite_books)\n",
    "print(favorite_books_bytelist)\n",
    "\n",
    "hours_floatlist = tf.train.FloatList(value = [15.1, 12.2, 8., 1.])\n",
    "print(hours_floatlist)\n",
    "\n",
    "age_int64list = tf.train.Int64List(value=[1,6])\n",
    "\n",
    "features = tf.train.Features(\n",
    "    feature = {\n",
    "        \"favorite_books\": tf.train.Feature(\n",
    "            bytes_list = favorite_books_bytelist\n",
    "        ),\n",
    "        \"hours\":tf.train.Feature(\n",
    "            float_list = hours_floatlist\n",
    "        ),\n",
    "        \"age\": tf.train.Feature(\n",
    "            int64_list = age_int64list\n",
    "        )\n",
    "    }\n",
    ")\n",
    "print(features)\n"
   ]
  },
  {
   "cell_type": "code",
   "execution_count": 14,
   "id": "deluxe-cliff",
   "metadata": {},
   "outputs": [
    {
     "name": "stdout",
     "output_type": "stream",
     "text": [
      "features {\n",
      "  feature {\n",
      "    key: \"age\"\n",
      "    value {\n",
      "      int64_list {\n",
      "        value: 1\n",
      "        value: 6\n",
      "      }\n",
      "    }\n",
      "  }\n",
      "  feature {\n",
      "    key: \"favorite_books\"\n",
      "    value {\n",
      "      bytes_list {\n",
      "        value: \"machine_learning\"\n",
      "        value: \"cc150\"\n",
      "      }\n",
      "    }\n",
      "  }\n",
      "  feature {\n",
      "    key: \"hours\"\n",
      "    value {\n",
      "      float_list {\n",
      "        value: 15.100000381469727\n",
      "        value: 12.199999809265137\n",
      "        value: 8.0\n",
      "        value: 1.0\n",
      "      }\n",
      "    }\n",
      "  }\n",
      "}\n",
      "\n",
      "b'\\n]\\n\\x1d\\n\\x05hours\\x12\\x14\\x12\\x12\\n\\x10\\x9a\\x99qA33CA\\x00\\x00\\x00A\\x00\\x00\\x80?\\n-\\n\\x0efavorite_books\\x12\\x1b\\n\\x19\\n\\x10machine_learning\\n\\x05cc150\\n\\r\\n\\x03age\\x12\\x06\\x1a\\x04\\n\\x02\\x01\\x06'\n"
     ]
    }
   ],
   "source": [
    "example = tf.train.Example(features = features)\n",
    "print(example)\n",
    "serialized_example = example.SerializeToString()\n",
    "print(serialized_example)"
   ]
  },
  {
   "cell_type": "code",
   "execution_count": 26,
   "id": "detected-textbook",
   "metadata": {},
   "outputs": [],
   "source": [
    "output_dir = \"tfrecord_basic\"\n",
    "if not os.path.exists(output_dir):\n",
    "    os.mkdir(output_dir)\n",
    "filename = 'test.record'\n",
    "filename_fullpath = os.path.join(output_dir, filename)\n",
    "\n",
    "with tf.io.TFRecordWriter(filename_fullpath) as writer:\n",
    "    for i in range(5):\n",
    "        writer.write(serialized_example)"
   ]
  },
  {
   "cell_type": "code",
   "execution_count": 27,
   "id": "wanted-morgan",
   "metadata": {},
   "outputs": [
    {
     "name": "stdout",
     "output_type": "stream",
     "text": [
      "tf.Tensor(b'\\n]\\n\\x1d\\n\\x05hours\\x12\\x14\\x12\\x12\\n\\x10\\x9a\\x99qA33CA\\x00\\x00\\x00A\\x00\\x00\\x80?\\n-\\n\\x0efavorite_books\\x12\\x1b\\n\\x19\\n\\x10machine_learning\\n\\x05cc150\\n\\r\\n\\x03age\\x12\\x06\\x1a\\x04\\n\\x02\\x01\\x06', shape=(), dtype=string)\n",
      "tf.Tensor(b'\\n]\\n\\x1d\\n\\x05hours\\x12\\x14\\x12\\x12\\n\\x10\\x9a\\x99qA33CA\\x00\\x00\\x00A\\x00\\x00\\x80?\\n-\\n\\x0efavorite_books\\x12\\x1b\\n\\x19\\n\\x10machine_learning\\n\\x05cc150\\n\\r\\n\\x03age\\x12\\x06\\x1a\\x04\\n\\x02\\x01\\x06', shape=(), dtype=string)\n",
      "tf.Tensor(b'\\n]\\n\\x1d\\n\\x05hours\\x12\\x14\\x12\\x12\\n\\x10\\x9a\\x99qA33CA\\x00\\x00\\x00A\\x00\\x00\\x80?\\n-\\n\\x0efavorite_books\\x12\\x1b\\n\\x19\\n\\x10machine_learning\\n\\x05cc150\\n\\r\\n\\x03age\\x12\\x06\\x1a\\x04\\n\\x02\\x01\\x06', shape=(), dtype=string)\n",
      "tf.Tensor(b'\\n]\\n\\x1d\\n\\x05hours\\x12\\x14\\x12\\x12\\n\\x10\\x9a\\x99qA33CA\\x00\\x00\\x00A\\x00\\x00\\x80?\\n-\\n\\x0efavorite_books\\x12\\x1b\\n\\x19\\n\\x10machine_learning\\n\\x05cc150\\n\\r\\n\\x03age\\x12\\x06\\x1a\\x04\\n\\x02\\x01\\x06', shape=(), dtype=string)\n",
      "tf.Tensor(b'\\n]\\n\\x1d\\n\\x05hours\\x12\\x14\\x12\\x12\\n\\x10\\x9a\\x99qA33CA\\x00\\x00\\x00A\\x00\\x00\\x80?\\n-\\n\\x0efavorite_books\\x12\\x1b\\n\\x19\\n\\x10machine_learning\\n\\x05cc150\\n\\r\\n\\x03age\\x12\\x06\\x1a\\x04\\n\\x02\\x01\\x06', shape=(), dtype=string)\n"
     ]
    }
   ],
   "source": [
    "dataset = tf.data.TFRecordDataset([filename_fullpath])\n",
    "for item in dataset:\n",
    "    print(item)"
   ]
  },
  {
   "cell_type": "code",
   "execution_count": 36,
   "id": "coral-polish",
   "metadata": {},
   "outputs": [
    {
     "name": "stdout",
     "output_type": "stream",
     "text": [
      "machine_learning\n",
      "cc150\n",
      "machine_learning\n",
      "cc150\n",
      "machine_learning\n",
      "cc150\n",
      "machine_learning\n",
      "cc150\n",
      "machine_learning\n",
      "cc150\n"
     ]
    }
   ],
   "source": [
    "expected_features = {\n",
    "    \"favorite_books\": tf.io.VarLenFeature(dtype=tf.string),\n",
    "    \"hours\": tf.io.VarLenFeature(dtype=tf.float32),\n",
    "    \"age\": tf.io.FixedLenFeature(shape=(2,),dtype=tf.int64),\n",
    "}\n",
    "\n",
    "\n",
    "dataset = tf.data.TFRecordDataset([filename_fullpath])\n",
    "for item in dataset:\n",
    "    example = tf.io.parse_single_example(item, expected_features)\n",
    "    books = tf.sparse.to_dense(example['favorite_books'])\n",
    "    for book in books:\n",
    "        print(book.numpy().decode(\"utf-8\"))\n",
    "#     print(example)\n",
    "    "
   ]
  },
  {
   "cell_type": "code",
   "execution_count": 37,
   "id": "clear-defendant",
   "metadata": {},
   "outputs": [],
   "source": [
    "filename_fullpath_zip = filename_fullpath + \".zip\"\n",
    "options = tf.io.TFRecordOptions(compression_type='GZIP')\n",
    "\n",
    "with tf.io.TFRecordWriter(filename_fullpath_zip, options) as writer:\n",
    "    for i in range(5):\n",
    "        writer.write(serialized_example)"
   ]
  },
  {
   "cell_type": "raw",
   "id": "restricted-cemetery",
   "metadata": {},
   "source": []
  },
  {
   "cell_type": "raw",
   "id": "polished-desire",
   "metadata": {},
   "source": [
    "expected_features = {\n",
    "    \"favorite_books\": tf.io.VarLenFeature(dtype=tf.string),\n",
    "    \"hours\": tf.io.VarLenFeature(dtype=tf.float32),\n",
    "    \"age\": tf.io.FixedLenFeature(shape=(2,),dtype=tf.int64),\n",
    "}\n",
    "\n",
    "\n",
    "dataset_zip = tf.data.TFRecordDataset([filename_fullpath_zip], compression_type='GZIP')\n",
    "for item in dataset_zip:\n",
    "    example = tf.io.parse_single_example(item, expected_features)\n",
    "    books = tf.sparse.to_dense(example['favorite_books'])\n",
    "    for book in books:\n",
    "        print(book.numpy().decode(\"utf-8\"))"
   ]
  },
  {
   "cell_type": "code",
   "execution_count": null,
   "id": "subject-registrar",
   "metadata": {},
   "outputs": [],
   "source": []
  }
 ],
 "metadata": {
  "kernelspec": {
   "display_name": "Python 3",
   "language": "python",
   "name": "python3"
  },
  "language_info": {
   "codemirror_mode": {
    "name": "ipython",
    "version": 3
   },
   "file_extension": ".py",
   "mimetype": "text/x-python",
   "name": "python",
   "nbconvert_exporter": "python",
   "pygments_lexer": "ipython3",
   "version": "3.7.3"
  }
 },
 "nbformat": 4,
 "nbformat_minor": 5
}
