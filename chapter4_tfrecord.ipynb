{
 "cells": [
  {
   "cell_type": "code",
   "execution_count": 1,
   "id": "collaborative-mouse",
   "metadata": {},
   "outputs": [
    {
     "name": "stdout",
     "output_type": "stream",
     "text": [
      "2.2.0-rc4\n",
      "sys.version_info(major=3, minor=7, micro=3, releaselevel='final', serial=0)\n"
     ]
    }
   ],
   "source": [
    "import matplotlib.pyplot as plt\n",
    "%matplotlib inline\n",
    "import numpy as np\n",
    "import sklearn\n",
    "import pandas as pd\n",
    "import os\n",
    "import sys\n",
    "import time\n",
    "import tensorflow as tf\n",
    "from tensorflow import keras\n",
    "\n",
    "print(tf.__version__)\n",
    "print(sys.version_info)\n"
   ]
  },
  {
   "cell_type": "code",
   "execution_count": 4,
   "id": "sound-joshua",
   "metadata": {},
   "outputs": [
    {
     "name": "stdout",
     "output_type": "stream",
     "text": [
      "value: \"machine_learning\"\n",
      "value: \"cc150\"\n",
      "\n",
      "value: 15.100000381469727\n",
      "value: 12.199999809265137\n",
      "value: 8.0\n",
      "value: 1.0\n",
      "\n",
      "feature {\n",
      "  key: \"age\"\n",
      "  value {\n",
      "    int64_list {\n",
      "      value: 1\n",
      "      value: 6\n",
      "    }\n",
      "  }\n",
      "}\n",
      "feature {\n",
      "  key: \"favorite_books\"\n",
      "  value {\n",
      "    bytes_list {\n",
      "      value: \"machine_learning\"\n",
      "      value: \"cc150\"\n",
      "    }\n",
      "  }\n",
      "}\n",
      "feature {\n",
      "  key: \"hours\"\n",
      "  value {\n",
      "    float_list {\n",
      "      value: 15.100000381469727\n",
      "      value: 12.199999809265137\n",
      "      value: 8.0\n",
      "      value: 1.0\n",
      "    }\n",
      "  }\n",
      "}\n",
      "\n"
     ]
    }
   ],
   "source": [
    "# tfrecord 文件格式\n",
    "# -> tf.train.Example\n",
    "#    -> tf.train.Features -> {\"key\": tf.train.Feature}\n",
    "#        -> tf.train.Feature -> tf.train.ByteList/FloatList/Int64List\n",
    "\n",
    "favorite_books = [name.encode(\"utf-8\") for name in [\"machine_learning\", \"cc150\"]]\n",
    "favorite_books_bytelist = tf.train.BytesList(value = favorite_books)\n",
    "print(favorite_books_bytelist)\n",
    "\n",
    "hours_floatlist = tf.train.FloatList(value = [15.1, 12.2, 8., 1.])\n",
    "print(hours_floatlist)\n",
    "\n",
    "age_int64list = tf.train.Int64List(value=[1,6])\n",
    "\n",
    "features = tf.train.Features(\n",
    "    feature = {\n",
    "        \"favorite_books\": tf.train.Feature(\n",
    "            bytes_list = favorite_books_bytelist\n",
    "        ),\n",
    "        \"hours\":tf.train.Feature(\n",
    "            float_list = hours_floatlist\n",
    "        ),\n",
    "        \"age\": tf.train.Feature(\n",
    "            int64_list = age_int64list\n",
    "        )\n",
    "    }\n",
    ")\n",
    "print(features)\n"
   ]
  },
  {
   "cell_type": "code",
   "execution_count": 8,
   "id": "forty-laundry",
   "metadata": {},
   "outputs": [
    {
     "name": "stdout",
     "output_type": "stream",
     "text": [
      "features {\n",
      "  feature {\n",
      "    key: \"age\"\n",
      "    value {\n",
      "      int64_list {\n",
      "        value: 1\n",
      "        value: 6\n",
      "      }\n",
      "    }\n",
      "  }\n",
      "  feature {\n",
      "    key: \"favorite_books\"\n",
      "    value {\n",
      "      bytes_list {\n",
      "        value: \"machine_learning\"\n",
      "        value: \"cc150\"\n",
      "      }\n",
      "    }\n",
      "  }\n",
      "  feature {\n",
      "    key: \"hours\"\n",
      "    value {\n",
      "      float_list {\n",
      "        value: 15.100000381469727\n",
      "        value: 12.199999809265137\n",
      "        value: 8.0\n",
      "        value: 1.0\n",
      "      }\n",
      "    }\n",
      "  }\n",
      "}\n",
      "\n",
      "b'\\n]\\n\\r\\n\\x03age\\x12\\x06\\x1a\\x04\\n\\x02\\x01\\x06\\n-\\n\\x0efavorite_books\\x12\\x1b\\n\\x19\\n\\x10machine_learning\\n\\x05cc150\\n\\x1d\\n\\x05hours\\x12\\x14\\x12\\x12\\n\\x10\\x9a\\x99qA33CA\\x00\\x00\\x00A\\x00\\x00\\x80?'\n"
     ]
    }
   ],
   "source": [
    "example = tf.train.Example(features = features)\n",
    "print(example)\n",
    "serialized_example = example.SerializeToString()\n",
    "print(serialized_example)\n"
   ]
  },
  {
   "cell_type": "code",
   "execution_count": 9,
   "id": "manual-philippines",
   "metadata": {},
   "outputs": [],
   "source": [
    "output_dir = \"tfrecord_basic\"\n",
    "if not os.path.exists(output_dir):\n",
    "    os.mkdir(output_dir)\n",
    "filename = 'test.record'\n",
    "filename_fullpath = os.path.join(output_dir, filename)\n",
    "\n",
    "with tf.io.TFRecordWriter(filename_fullpath) as writer:\n",
    "    for i in range(3):\n",
    "        writer.write(serialized_example)"
   ]
  },
  {
   "cell_type": "code",
   "execution_count": 10,
   "id": "capable-belfast",
   "metadata": {},
   "outputs": [
    {
     "name": "stdout",
     "output_type": "stream",
     "text": [
      "tf.Tensor(b'\\n]\\n\\r\\n\\x03age\\x12\\x06\\x1a\\x04\\n\\x02\\x01\\x06\\n-\\n\\x0efavorite_books\\x12\\x1b\\n\\x19\\n\\x10machine_learning\\n\\x05cc150\\n\\x1d\\n\\x05hours\\x12\\x14\\x12\\x12\\n\\x10\\x9a\\x99qA33CA\\x00\\x00\\x00A\\x00\\x00\\x80?', shape=(), dtype=string)\n",
      "tf.Tensor(b'\\n]\\n\\r\\n\\x03age\\x12\\x06\\x1a\\x04\\n\\x02\\x01\\x06\\n-\\n\\x0efavorite_books\\x12\\x1b\\n\\x19\\n\\x10machine_learning\\n\\x05cc150\\n\\x1d\\n\\x05hours\\x12\\x14\\x12\\x12\\n\\x10\\x9a\\x99qA33CA\\x00\\x00\\x00A\\x00\\x00\\x80?', shape=(), dtype=string)\n",
      "tf.Tensor(b'\\n]\\n\\r\\n\\x03age\\x12\\x06\\x1a\\x04\\n\\x02\\x01\\x06\\n-\\n\\x0efavorite_books\\x12\\x1b\\n\\x19\\n\\x10machine_learning\\n\\x05cc150\\n\\x1d\\n\\x05hours\\x12\\x14\\x12\\x12\\n\\x10\\x9a\\x99qA33CA\\x00\\x00\\x00A\\x00\\x00\\x80?', shape=(), dtype=string)\n"
     ]
    }
   ],
   "source": [
    "dataset = tf.data.TFRecordDataset([filename_fullpath])\n",
    "for item in dataset:\n",
    "    print(item)"
   ]
  },
  {
   "cell_type": "code",
   "execution_count": 11,
   "id": "standing-retailer",
   "metadata": {},
   "outputs": [
    {
     "ename": "AttributeError",
     "evalue": "module 'tensorflow._api.v2.io' has no attribute 'VarlenFeature'",
     "output_type": "error",
     "traceback": [
      "\u001b[1;31m---------------------------------------------------------------------------\u001b[0m",
      "\u001b[1;31mAttributeError\u001b[0m                            Traceback (most recent call last)",
      "\u001b[1;32m<ipython-input-11-535fdf5749b2>\u001b[0m in \u001b[0;36m<module>\u001b[1;34m\u001b[0m\n\u001b[0;32m      1\u001b[0m expected_features = {\n\u001b[1;32m----> 2\u001b[1;33m     \u001b[1;34m\"favorite_books\"\u001b[0m\u001b[1;33m:\u001b[0m \u001b[0mtf\u001b[0m\u001b[1;33m.\u001b[0m\u001b[0mio\u001b[0m\u001b[1;33m.\u001b[0m\u001b[0mVarlenFeature\u001b[0m\u001b[1;33m(\u001b[0m\u001b[0mdtype\u001b[0m\u001b[1;33m=\u001b[0m\u001b[0mtf\u001b[0m\u001b[1;33m.\u001b[0m\u001b[0mstring\u001b[0m\u001b[1;33m)\u001b[0m\u001b[1;33m,\u001b[0m\u001b[1;33m\u001b[0m\u001b[1;33m\u001b[0m\u001b[0m\n\u001b[0m\u001b[0;32m      3\u001b[0m     \u001b[1;34m\"hours\"\u001b[0m\u001b[1;33m:\u001b[0m \u001b[0mtf\u001b[0m\u001b[1;33m.\u001b[0m\u001b[0mio\u001b[0m\u001b[1;33m.\u001b[0m\u001b[0mVarlenFeature\u001b[0m\u001b[1;33m(\u001b[0m\u001b[0mdtype\u001b[0m\u001b[1;33m=\u001b[0m\u001b[0mtf\u001b[0m\u001b[1;33m.\u001b[0m\u001b[0mfloat32\u001b[0m\u001b[1;33m)\u001b[0m\u001b[1;33m,\u001b[0m\u001b[1;33m\u001b[0m\u001b[1;33m\u001b[0m\u001b[0m\n\u001b[0;32m      4\u001b[0m     \u001b[1;34m\"age\"\u001b[0m\u001b[1;33m:\u001b[0m \u001b[0mtf\u001b[0m\u001b[1;33m.\u001b[0m\u001b[0mio\u001b[0m\u001b[1;33m.\u001b[0m\u001b[0mFixedLenFeature\u001b[0m\u001b[1;33m(\u001b[0m\u001b[0mdtype\u001b[0m\u001b[1;33m=\u001b[0m\u001b[0mtf\u001b[0m\u001b[1;33m.\u001b[0m\u001b[0mint64\u001b[0m\u001b[1;33m)\u001b[0m\u001b[1;33m,\u001b[0m\u001b[1;33m\u001b[0m\u001b[1;33m\u001b[0m\u001b[0m\n\u001b[0;32m      5\u001b[0m }\n",
      "\u001b[1;31mAttributeError\u001b[0m: module 'tensorflow._api.v2.io' has no attribute 'VarlenFeature'"
     ]
    }
   ],
   "source": [
    "expected_features = {\n",
    "    \"favorite_books\": tf.io.VarlenFeature(dtype=tf.string),\n",
    "    \"hours\": tf.io.VarlenFeature(dtype=tf.float32),\n",
    "    \"age\": tf.io.FixedLenFeature(dtype=tf.int64),\n",
    "}\n",
    "\n",
    "dataset = tf.data.TFRecordDataset([filename_fullpath])\n",
    "for item in dataset:\n",
    "    example = tf.io.parse_single_example(item, expected_features)\n",
    "    print(example)"
   ]
  },
  {
   "cell_type": "code",
   "execution_count": null,
   "id": "ethical-talent",
   "metadata": {},
   "outputs": [],
   "source": []
  }
 ],
 "metadata": {
  "kernelspec": {
   "display_name": "Python 3",
   "language": "python",
   "name": "python3"
  },
  "language_info": {
   "codemirror_mode": {
    "name": "ipython",
    "version": 3
   },
   "file_extension": ".py",
   "mimetype": "text/x-python",
   "name": "python",
   "nbconvert_exporter": "python",
   "pygments_lexer": "ipython3",
   "version": "3.7.3"
  }
 },
 "nbformat": 4,
 "nbformat_minor": 5
}
